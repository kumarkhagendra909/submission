{
  "nbformat": 4,
  "nbformat_minor": 0,
  "metadata": {
    "colab": {
      "provenance": []
    },
    "kernelspec": {
      "name": "python3",
      "display_name": "Python 3"
    },
    "language_info": {
      "name": "python"
    }
  },
  "cells": [
    {
      "cell_type": "markdown",
      "source": [
        "## Submission By Khagendra Kumar Mandal\n",
        "\n",
        "# To Accuknox India Private Limited"
      ],
      "metadata": {
        "id": "rGF36csFU2PY"
      }
    },
    {
      "cell_type": "markdown",
      "source": [
        "# Accuknox assignment question"
      ],
      "metadata": {
        "id": "2iPedsdZOfZH"
      }
    },
    {
      "cell_type": "markdown",
      "source": [
        "**Question 1:** By default are django signals executed synchronously or asynchronously? Please support your answer with a code snippet that conclusively proves your stance. The code does not need to be elegant and production ready, we just need to understand your logic."
      ],
      "metadata": {
        "id": "vg6wIGXeA5pd"
      }
    },
    {
      "cell_type": "markdown",
      "source": [
        "**Answer to Question 1**\n",
        "By default, Django Signals are executed Synchronously. When a signal is triggered, the signal handlers are executed in the same thread and in the same process as the code that triggered, rthe same process as the code that triggered the signal"
      ],
      "metadata": {
        "id": "F7f71O6XGt16"
      }
    },
    {
      "cell_type": "markdown",
      "source": [
        "**Question 2:** Do django signals run in the same thread as the caller? Please support your\n",
        "answer with a code snippet that conclusively proves your stance. The code does not need to be\n",
        "elegant and production ready, we just need to understand your logic."
      ],
      "metadata": {
        "id": "cDEvXIAPG6sQ"
      }
    },
    {
      "cell_type": "markdown",
      "source": [
        "**Answer to Question 2**\n",
        "\n",
        "Yes, Django signals run in the same thread as the code triggers them. Signals do not create new threads for their handlers; they execute in the context of the current thread."
      ],
      "metadata": {
        "id": "o0CvIZpsHGKr"
      }
    },
    {
      "cell_type": "markdown",
      "source": [
        "**Question 3:** By default do django signals run in the same database transaction as the caller? Please support your answer with a code snippet that conclusively proves your stance. The code does not need to be elegant and production ready, we just need to understand your logic."
      ],
      "metadata": {
        "id": "14FJfBRWHtGk"
      }
    },
    {
      "cell_type": "markdown",
      "source": [
        "**Answer to Question 3**\n",
        "\n",
        "Yes, by default, Django signals run in the same database transaction as the ORM (Object-Relational Mapping) operation(Add, Delete, Update, Display) that triggers them."
      ],
      "metadata": {
        "id": "Yl_fAdBVH5Df"
      }
    },
    {
      "cell_type": "markdown",
      "source": [
        "# Code Snippet:\n",
        "for all three question"
      ],
      "metadata": {
        "id": "mnL63M4tLDWB"
      }
    },
    {
      "cell_type": "code",
      "source": [
        "# models.py\n",
        "from django.db import models\n",
        "\n",
        "class Comment(models.Model):\n",
        "    PENDING = 'pending'\n",
        "    SAVED = 'saved'\n",
        "    STATUS_CHOICES = [\n",
        "        (PENDING, 'Pending'),\n",
        "        (SAVED, 'Saved'),\n",
        "    ]\n",
        "\n",
        "    name = models.CharField(max_length=100)\n",
        "    comment = models.CharField(max_length=100)\n",
        "    status = models.CharField(\n",
        "        max_length=250,\n",
        "        choices=STATUS_CHOICES,\n",
        "        default=PENDING,\n",
        "    )\n",
        "\n",
        "    def __str__(self):\n",
        "        return f'{self.name} - {self.status}'\n",
        "\n",
        "# signals.py\n",
        "import time\n",
        "from django.db.models.signals import post_save, pre_save\n",
        "from django.dispatch import receiver\n",
        "from .models import Comment\n",
        "import threading\n",
        "import logging\n",
        "from django.db import transaction\n",
        "\n",
        "logger = logging.getLogger(__name__)\n",
        "\n",
        "# Dictionary to store previous status\n",
        "previous_statuses = {}\n",
        "\n",
        "# Signal to run before saving a comment\n",
        "@receiver(pre_save, sender=Comment)\n",
        "def before_comment_saved(sender, instance, **kwargs):\n",
        "    # Track the thread ID for proof that the signal runs in the same thread\n",
        "    current_thread = threading.get_ident()\n",
        "    logger.info(f\"Before saving comment: {instance.name} - {instance.status} - Thread ID: {current_thread}\")\n",
        "    print(f\"Before saving comment: {instance.name} - {instance.status} - Thread ID: {current_thread}\")\n",
        "\n",
        "    if instance.pk in previous_statuses:\n",
        "        # If the instance already exists, get the previous status\n",
        "        previous_status = previous_statuses[instance.pk]\n",
        "    else:\n",
        "        # If the instance is new, use the current status\n",
        "        previous_status = instance.status\n",
        "\n",
        "    # Store the current status before saving\n",
        "    if instance.pk:\n",
        "        # Update the previous status for the existing instance\n",
        "        previous_statuses[instance.pk] = previous_status\n",
        "\n",
        "    time.sleep(3) # to demonstrate\n",
        "\n",
        "    # Log the previous status and thread ID\n",
        "    logger.info(f\"Before saving comment (status): {instance.name} - {previous_status} - Thread ID: {current_thread}\")\n",
        "    print(f\"Before saving comment (status): {instance.name} - {previous_status} - Thread ID: {current_thread}\")\n",
        "\n",
        "# Signal to run after saving a comment\n",
        "@receiver(post_save, sender=Comment)\n",
        "def after_comment_saved(sender, instance, created, **kwargs):\n",
        "    current_thread = threading.get_ident()\n",
        "    logger.info(f\"After saving comment (signal): {instance.name} - Thread ID: {current_thread}\")\n",
        "    print(f\"After saving comment (signal): {instance.name} - Thread ID: {current_thread}\")\n",
        "\n",
        "    if created:\n",
        "        # For new comments\n",
        "        logger.info(f\"New comment saved: {instance.name} - {instance.status} - Thread ID: {current_thread}\")\n",
        "        print(f\"New comment saved: {instance.name} - {instance.status} - Thread ID: {current_thread}\")\n",
        "\n",
        "    else:\n",
        "        # For existing comments, print both the previous and new status\n",
        "        previous_status = previous_statuses.get(instance.pk, instance.status)\n",
        "        logger.info(f\"Existing comment updated: {instance.name} - {previous_status} -> {instance.status} - Thread ID: {current_thread}\")\n",
        "        print(f\"Existing comment updated: {instance.name} - {previous_status} -> {instance.status} - Thread ID: {current_thread}\")\n",
        "\n",
        "        # Remove the entry from previous_statuses after update\n",
        "        previous_statuses.pop(instance.pk, None)\n",
        "\n",
        "    # Demonstrating that signals run in the same transaction as the caller.\n",
        "\n",
        "    try:\n",
        "        with transaction.atomic():\n",
        "            # Simulate an additional action in the transaction within the signal\n",
        "            logger.info(f\"Processing transaction for comment: {instance.name} - {instance.status}\")\n",
        "            print(f\"Processing transaction for comment: {instance.name} - {instance.status}\")\n",
        "            # Raise an error to simulate a rollback\n",
        "            if instance.status == \"pending\":\n",
        "                print(\"Simulating rollback during signal processing.\")\n",
        "            else:\n",
        "                print(\"Simulating commit/Saved during signal processing\")\n",
        "    except Exception as e:\n",
        "        logger.error(f\"Transaction completely failed: {str(e)}\")\n",
        "        print(\"Transaction completely failed\", str(e))\n",
        "\n"
      ],
      "metadata": {
        "id": "O7Eg4shDA4xP"
      },
      "execution_count": null,
      "outputs": []
    },
    {
      "cell_type": "markdown",
      "source": [
        "# OUTPUT\n",
        "\n",
        "when object is created\n",
        "\n",
        "**output log:** if user saves with status \"pending\"\n",
        "\n",
        "Before saving comment: Khagendra - pending - Thread ID: 2116\n",
        "Before saving comment (status): Khagendra - pending - Thread ID: 2116\n",
        "After saving comment (signal): Khagendra - Thread ID: 2116\n",
        "New comment saved: Khagendra - pending - Thread ID: 2116\n",
        "Processing transaction for comment: Khagendra - pending\n",
        "Simulating rollback during signal processing.\n",
        "\n",
        "===============================================================\n",
        "\n",
        "when existing object changed\n",
        "\n",
        "**output log:** if user saves with status \"saved\"\n",
        "\n",
        "Before saving comment: Khagendra - saved - Thread ID: 2116\n",
        "Before saving comment (status): Khagendra - saved - Thread ID: 2116\n",
        "After saving comment (signal): Khagendra - Thread ID: 2116\n",
        "Existing comment updated: Khagendra - saved -> saved - Thread ID: 2116\n",
        "Processing transaction for comment: Khagendra - saved\n",
        "Simulating commit/Saved during signal processing\n"
      ],
      "metadata": {
        "id": "nfth15UIM4ng"
      }
    },
    {
      "cell_type": "markdown",
      "source": [
        "\n",
        "# Topic: Custom Classes in Python\n",
        "**Description:** You are tasked with creating a Rectangle class with the following requirements:\n",
        "1. An instance of the Rectangle class requires length:int and width:int to be initialized.\n",
        "2. We can iterate over an instance of the Rectangle class\n",
        "3. When an instance of the Rectangle class is iterated over, we first get its length in the format: `{'length': <VALUE_OF_LENGTH>}` followed by the width `{width: <VALUE_OF_WIDTH>}`"
      ],
      "metadata": {
        "id": "6kpAjdbzOkDU"
      }
    },
    {
      "cell_type": "code",
      "source": [
        "class Rectangle:\n",
        "    def __init__(self, length: int, width: int):\n",
        "      \"\"\"\n",
        "      Initialize a Rectangle object with the given length and width.\n",
        "\n",
        "      Args(input):\n",
        "        length (int): The length of the Rectangle.\n",
        "        width (int): The width of the Rectangle.\n",
        "      \"\"\"\n",
        "      if not isinstance(length, int) or not isinstance(width, int):\n",
        "        raise TypeError(\"Length and width must be integers.\")\n",
        "      if length <= 0 or width <= 0:\n",
        "        raise ValueError(\"Length and width must be positive integers.\")\n",
        "\n",
        "      self.length = length\n",
        "      self.width = width\n",
        "      self._attributes = [{'length': self.length}, {'width': self.width}]\n",
        "      self._iter_index = 0\n",
        "\n",
        "    def __iter__(self):\n",
        "      \"\"\"Return the iterator object itself.\"\"\"\n",
        "      return self\n",
        "\n",
        "    def __next__(self):\n",
        "      \"\"\"Return the next item in the iteration.\"\"\"\n",
        "      if self._iter_index < len(self._attributes):\n",
        "        result = self._attributes[self._iter_index]\n",
        "        self._iter_index += 1\n",
        "        return result\n",
        "      else:\n",
        "        raise StopIteration\n",
        "\n",
        "\n",
        "rect = Rectangle(5, 10)\n",
        "for item in rect:\n",
        "    print(item)"
      ],
      "metadata": {
        "colab": {
          "base_uri": "https://localhost:8080/"
        },
        "id": "d6vjXsolQXF3",
        "outputId": "778f0cd5-8ed6-4814-93d5-0fc0d1eed60d"
      },
      "execution_count": 2,
      "outputs": [
        {
          "output_type": "stream",
          "name": "stdout",
          "text": [
            "{'length': 5}\n",
            "{'width': 10}\n"
          ]
        }
      ]
    }
  ]
}